{
  "cells": [
    {
      "cell_type": "markdown",
      "metadata": {
        "id": "9uC-TFrin2kR"
      },
      "source": [
        "# Apendizaje No Supervisado"
      ]
    },
    {
      "cell_type": "markdown",
      "metadata": {
        "id": "Qznn-_WHoMQM"
      },
      "source": [
        "## Preliminares"
      ]
    },
    {
      "cell_type": "code",
      "execution_count": 1,
      "metadata": {
        "id": "GpSktKSRfnnj"
      },
      "outputs": [],
      "source": [
        "# Importación de librerías comunes\n",
        "import numpy as np\n",
        "import pandas as pd\n",
        "import matplotlib.pyplot as plt\n",
        "from matplotlib.gridspec import GridSpec\n",
        "import seaborn as sns"
      ]
    },
    {
      "cell_type": "code",
      "execution_count": null,
      "metadata": {},
      "outputs": [],
      "source": [
        "# Usen el método de aquisición de datos que gusten o les resulte cómodo\n",
        "#from google.colab import drive\n",
        "#drive.mount('/content/drive')"
      ]
    },
    {
      "cell_type": "code",
      "execution_count": 236,
      "metadata": {
        "id": "iJV9ewJQhTMG"
      },
      "outputs": [],
      "source": [
        "file = 'C:/Documentos/CURSOS/Diplomatura en Data Science Aplicada/TPS entregados/TP3/census.csv'\n",
        "# Se recomienda usar la codificación 'latin-1' por el tipo de datos censales\n",
        "df = pd.read_csv(file, encoding='latin-1')\n"
      ]
    },
    {
      "cell_type": "markdown",
      "metadata": {
        "id": "LHH9ispLkal1"
      },
      "source": [
        "Algunas exploraciones y preparación de datos (que pueden modificar si lo desean... pero traten de no agregar ni sacar columnas)"
      ]
    },
    {
      "cell_type": "code",
      "execution_count": 237,
      "metadata": {
        "id": "3hs_r7X7hwAX"
      },
      "outputs": [
        {
          "data": {
            "text/plain": [
              "(32561, 15)"
            ]
          },
          "execution_count": 237,
          "metadata": {},
          "output_type": "execute_result"
        }
      ],
      "source": [
        "df.shape"
      ]
    },
    {
      "cell_type": "code",
      "execution_count": 238,
      "metadata": {
        "id": "hMajX2dwjUC_"
      },
      "outputs": [
        {
          "name": "stdout",
          "output_type": "stream",
          "text": [
            "<class 'pandas.core.frame.DataFrame'>\n",
            "RangeIndex: 32561 entries, 0 to 32560\n",
            "Data columns (total 15 columns):\n",
            " #   Column          Non-Null Count  Dtype \n",
            "---  ------          --------------  ----- \n",
            " 0   age             32561 non-null  int64 \n",
            " 1   workclass       32561 non-null  object\n",
            " 2   fnlwgt          32561 non-null  int64 \n",
            " 3   education       32561 non-null  object\n",
            " 4   education.num   32561 non-null  int64 \n",
            " 5   marital.status  32561 non-null  object\n",
            " 6   occupation      32561 non-null  object\n",
            " 7   relationship    32561 non-null  object\n",
            " 8   race            32561 non-null  object\n",
            " 9   sex             32561 non-null  object\n",
            " 10  capital.gain    32561 non-null  int64 \n",
            " 11  capital.loss    32561 non-null  int64 \n",
            " 12  hours.per.week  32561 non-null  int64 \n",
            " 13  native.country  32561 non-null  object\n",
            " 14  income          32561 non-null  object\n",
            "dtypes: int64(6), object(9)\n",
            "memory usage: 3.7+ MB\n"
          ]
        }
      ],
      "source": [
        "df.info()"
      ]
    },
    {
      "cell_type": "code",
      "execution_count": 239,
      "metadata": {
        "id": "q1co15ibhxv1"
      },
      "outputs": [],
      "source": [
        "# Existen algunas celdas con '?'. Las codificaremos como NaN\n",
        "df[df == '?'] = np.nan"
      ]
    },
    {
      "cell_type": "code",
      "execution_count": 240,
      "metadata": {
        "id": "pHuWVk5yjakJ"
      },
      "outputs": [
        {
          "name": "stdout",
          "output_type": "stream",
          "text": [
            "<class 'pandas.core.frame.DataFrame'>\n",
            "RangeIndex: 32561 entries, 0 to 32560\n",
            "Data columns (total 15 columns):\n",
            " #   Column          Non-Null Count  Dtype \n",
            "---  ------          --------------  ----- \n",
            " 0   age             32561 non-null  int64 \n",
            " 1   workclass       30725 non-null  object\n",
            " 2   fnlwgt          32561 non-null  int64 \n",
            " 3   education       32561 non-null  object\n",
            " 4   education.num   32561 non-null  int64 \n",
            " 5   marital.status  32561 non-null  object\n",
            " 6   occupation      30718 non-null  object\n",
            " 7   relationship    32561 non-null  object\n",
            " 8   race            32561 non-null  object\n",
            " 9   sex             32561 non-null  object\n",
            " 10  capital.gain    32561 non-null  int64 \n",
            " 11  capital.loss    32561 non-null  int64 \n",
            " 12  hours.per.week  32561 non-null  int64 \n",
            " 13  native.country  31978 non-null  object\n",
            " 14  income          32561 non-null  object\n",
            "dtypes: int64(6), object(9)\n",
            "memory usage: 3.7+ MB\n"
          ]
        }
      ],
      "source": [
        "df.info()"
      ]
    },
    {
      "cell_type": "code",
      "execution_count": 241,
      "metadata": {
        "id": "vh6UfGvYji9J"
      },
      "outputs": [],
      "source": [
        "# Ahora recorreremos las columnas en la lista e inputaremos los datos\n",
        "# nulos (como son variables categóricas, las imputaremos con el\n",
        "# valor más frecuente, la moda)\n",
        "for col in ['workclass', 'occupation', 'native.country']:\n",
        "    df[col].fillna(df[col].mode()[0], inplace=True)"
      ]
    },
    {
      "cell_type": "code",
      "execution_count": 242,
      "metadata": {
        "id": "Sc-kx97OjlAh"
      },
      "outputs": [
        {
          "data": {
            "text/plain": [
              "age               0\n",
              "workclass         0\n",
              "fnlwgt            0\n",
              "education         0\n",
              "education.num     0\n",
              "marital.status    0\n",
              "occupation        0\n",
              "relationship      0\n",
              "race              0\n",
              "sex               0\n",
              "capital.gain      0\n",
              "capital.loss      0\n",
              "hours.per.week    0\n",
              "native.country    0\n",
              "income            0\n",
              "dtype: int64"
            ]
          },
          "execution_count": 242,
          "metadata": {},
          "output_type": "execute_result"
        }
      ],
      "source": [
        "df.isnull().sum()"
      ]
    },
    {
      "cell_type": "code",
      "execution_count": 243,
      "metadata": {
        "id": "wIaqOENTjpdp"
      },
      "outputs": [],
      "source": [
        "# Separamos los datos de entrada (características) de la salida esperada (etiqueta)\n",
        "X = df.drop(['income'], axis=1)\n",
        "y = df['income']"
      ]
    },
    {
      "cell_type": "code",
      "execution_count": 244,
      "metadata": {
        "id": "9WTROJ6VjrnY"
      },
      "outputs": [
        {
          "data": {
            "text/html": [
              "<div>\n",
              "<style scoped>\n",
              "    .dataframe tbody tr th:only-of-type {\n",
              "        vertical-align: middle;\n",
              "    }\n",
              "\n",
              "    .dataframe tbody tr th {\n",
              "        vertical-align: top;\n",
              "    }\n",
              "\n",
              "    .dataframe thead th {\n",
              "        text-align: right;\n",
              "    }\n",
              "</style>\n",
              "<table border=\"1\" class=\"dataframe\">\n",
              "  <thead>\n",
              "    <tr style=\"text-align: right;\">\n",
              "      <th></th>\n",
              "      <th>age</th>\n",
              "      <th>workclass</th>\n",
              "      <th>fnlwgt</th>\n",
              "      <th>education</th>\n",
              "      <th>education.num</th>\n",
              "      <th>marital.status</th>\n",
              "      <th>occupation</th>\n",
              "      <th>relationship</th>\n",
              "      <th>race</th>\n",
              "      <th>sex</th>\n",
              "      <th>capital.gain</th>\n",
              "      <th>capital.loss</th>\n",
              "      <th>hours.per.week</th>\n",
              "      <th>native.country</th>\n",
              "    </tr>\n",
              "  </thead>\n",
              "  <tbody>\n",
              "    <tr>\n",
              "      <th>0</th>\n",
              "      <td>90</td>\n",
              "      <td>Private</td>\n",
              "      <td>77053</td>\n",
              "      <td>HS-grad</td>\n",
              "      <td>9</td>\n",
              "      <td>Widowed</td>\n",
              "      <td>Prof-specialty</td>\n",
              "      <td>Not-in-family</td>\n",
              "      <td>White</td>\n",
              "      <td>Female</td>\n",
              "      <td>0</td>\n",
              "      <td>4356</td>\n",
              "      <td>40</td>\n",
              "      <td>United-States</td>\n",
              "    </tr>\n",
              "    <tr>\n",
              "      <th>1</th>\n",
              "      <td>82</td>\n",
              "      <td>Private</td>\n",
              "      <td>132870</td>\n",
              "      <td>HS-grad</td>\n",
              "      <td>9</td>\n",
              "      <td>Widowed</td>\n",
              "      <td>Exec-managerial</td>\n",
              "      <td>Not-in-family</td>\n",
              "      <td>White</td>\n",
              "      <td>Female</td>\n",
              "      <td>0</td>\n",
              "      <td>4356</td>\n",
              "      <td>18</td>\n",
              "      <td>United-States</td>\n",
              "    </tr>\n",
              "    <tr>\n",
              "      <th>2</th>\n",
              "      <td>66</td>\n",
              "      <td>Private</td>\n",
              "      <td>186061</td>\n",
              "      <td>Some-college</td>\n",
              "      <td>10</td>\n",
              "      <td>Widowed</td>\n",
              "      <td>Prof-specialty</td>\n",
              "      <td>Unmarried</td>\n",
              "      <td>Black</td>\n",
              "      <td>Female</td>\n",
              "      <td>0</td>\n",
              "      <td>4356</td>\n",
              "      <td>40</td>\n",
              "      <td>United-States</td>\n",
              "    </tr>\n",
              "    <tr>\n",
              "      <th>3</th>\n",
              "      <td>54</td>\n",
              "      <td>Private</td>\n",
              "      <td>140359</td>\n",
              "      <td>7th-8th</td>\n",
              "      <td>4</td>\n",
              "      <td>Divorced</td>\n",
              "      <td>Machine-op-inspct</td>\n",
              "      <td>Unmarried</td>\n",
              "      <td>White</td>\n",
              "      <td>Female</td>\n",
              "      <td>0</td>\n",
              "      <td>3900</td>\n",
              "      <td>40</td>\n",
              "      <td>United-States</td>\n",
              "    </tr>\n",
              "    <tr>\n",
              "      <th>4</th>\n",
              "      <td>41</td>\n",
              "      <td>Private</td>\n",
              "      <td>264663</td>\n",
              "      <td>Some-college</td>\n",
              "      <td>10</td>\n",
              "      <td>Separated</td>\n",
              "      <td>Prof-specialty</td>\n",
              "      <td>Own-child</td>\n",
              "      <td>White</td>\n",
              "      <td>Female</td>\n",
              "      <td>0</td>\n",
              "      <td>3900</td>\n",
              "      <td>40</td>\n",
              "      <td>United-States</td>\n",
              "    </tr>\n",
              "  </tbody>\n",
              "</table>\n",
              "</div>"
            ],
            "text/plain": [
              "   age workclass  fnlwgt     education  education.num marital.status  \\\n",
              "0   90   Private   77053       HS-grad              9        Widowed   \n",
              "1   82   Private  132870       HS-grad              9        Widowed   \n",
              "2   66   Private  186061  Some-college             10        Widowed   \n",
              "3   54   Private  140359       7th-8th              4       Divorced   \n",
              "4   41   Private  264663  Some-college             10      Separated   \n",
              "\n",
              "          occupation   relationship   race     sex  capital.gain  \\\n",
              "0     Prof-specialty  Not-in-family  White  Female             0   \n",
              "1    Exec-managerial  Not-in-family  White  Female             0   \n",
              "2     Prof-specialty      Unmarried  Black  Female             0   \n",
              "3  Machine-op-inspct      Unmarried  White  Female             0   \n",
              "4     Prof-specialty      Own-child  White  Female             0   \n",
              "\n",
              "   capital.loss  hours.per.week native.country  \n",
              "0          4356              40  United-States  \n",
              "1          4356              18  United-States  \n",
              "2          4356              40  United-States  \n",
              "3          3900              40  United-States  \n",
              "4          3900              40  United-States  "
            ]
          },
          "execution_count": 244,
          "metadata": {},
          "output_type": "execute_result"
        }
      ],
      "source": [
        "X.head()"
      ]
    },
    {
      "cell_type": "code",
      "execution_count": 245,
      "metadata": {
        "id": "-jhapmESjueF"
      },
      "outputs": [],
      "source": [
        "# Separamos en conjunto de entrenamiento y prueba\n",
        "from sklearn.model_selection import train_test_split\n",
        "\n",
        "X_train, X_test, y_train, y_test = train_test_split(X, y, test_size = 0.3, random_state = 0)"
      ]
    },
    {
      "cell_type": "markdown",
      "metadata": {
        "id": "aMCWyMPKlvxj"
      },
      "source": [
        "Un poco de Ingeniería de Características..."
      ]
    },
    {
      "cell_type": "code",
      "execution_count": 246,
      "metadata": {
        "id": "R2785p_Qjxgq"
      },
      "outputs": [],
      "source": [
        "# Vamos a codificar las variables categóricas\n",
        "# Aplicaremos simplemente un LabelEncoder()\n",
        "from sklearn import preprocessing\n",
        "\n",
        "categorical = ['workclass', 'education', 'marital.status', 'occupation', 'relationship', 'race', 'sex', 'native.country']\n",
        "for feature in categorical:\n",
        "        le = preprocessing.LabelEncoder()\n",
        "        X_train[feature] = le.fit_transform(X_train[feature])\n",
        "        X_test[feature] = le.transform(X_test[feature])"
      ]
    },
    {
      "cell_type": "code",
      "execution_count": 247,
      "metadata": {
        "id": "hXtawGxEj1pI"
      },
      "outputs": [],
      "source": [
        "# Ahora escalaremos los datos de entrenamiento y prueba.\n",
        "from sklearn.preprocessing import StandardScaler\n",
        "\n",
        "scaler = StandardScaler()\n",
        "\n",
        "X_train = pd.DataFrame(scaler.fit_transform(X_train), columns = X.columns)\n",
        "X_test = pd.DataFrame(scaler.transform(X_test), columns = X.columns)"
      ]
    },
    {
      "cell_type": "code",
      "execution_count": 248,
      "metadata": {
        "id": "fZvqoKZKj4w5"
      },
      "outputs": [
        {
          "data": {
            "text/html": [
              "<div>\n",
              "<style scoped>\n",
              "    .dataframe tbody tr th:only-of-type {\n",
              "        vertical-align: middle;\n",
              "    }\n",
              "\n",
              "    .dataframe tbody tr th {\n",
              "        vertical-align: top;\n",
              "    }\n",
              "\n",
              "    .dataframe thead th {\n",
              "        text-align: right;\n",
              "    }\n",
              "</style>\n",
              "<table border=\"1\" class=\"dataframe\">\n",
              "  <thead>\n",
              "    <tr style=\"text-align: right;\">\n",
              "      <th></th>\n",
              "      <th>age</th>\n",
              "      <th>workclass</th>\n",
              "      <th>fnlwgt</th>\n",
              "      <th>education</th>\n",
              "      <th>education.num</th>\n",
              "      <th>marital.status</th>\n",
              "      <th>occupation</th>\n",
              "      <th>relationship</th>\n",
              "      <th>race</th>\n",
              "      <th>sex</th>\n",
              "      <th>capital.gain</th>\n",
              "      <th>capital.loss</th>\n",
              "      <th>hours.per.week</th>\n",
              "      <th>native.country</th>\n",
              "    </tr>\n",
              "  </thead>\n",
              "  <tbody>\n",
              "    <tr>\n",
              "      <th>0</th>\n",
              "      <td>0.101484</td>\n",
              "      <td>2.600478</td>\n",
              "      <td>-1.494279</td>\n",
              "      <td>-0.332263</td>\n",
              "      <td>1.133894</td>\n",
              "      <td>-0.402341</td>\n",
              "      <td>-0.782234</td>\n",
              "      <td>2.214196</td>\n",
              "      <td>0.39298</td>\n",
              "      <td>-1.430470</td>\n",
              "      <td>-0.145189</td>\n",
              "      <td>-0.217407</td>\n",
              "      <td>-1.662414</td>\n",
              "      <td>0.262317</td>\n",
              "    </tr>\n",
              "    <tr>\n",
              "      <th>1</th>\n",
              "      <td>0.028248</td>\n",
              "      <td>-1.884720</td>\n",
              "      <td>0.438778</td>\n",
              "      <td>0.184396</td>\n",
              "      <td>-0.423425</td>\n",
              "      <td>-0.402341</td>\n",
              "      <td>-0.026696</td>\n",
              "      <td>-0.899410</td>\n",
              "      <td>0.39298</td>\n",
              "      <td>0.699071</td>\n",
              "      <td>-0.145189</td>\n",
              "      <td>-0.217407</td>\n",
              "      <td>-0.200753</td>\n",
              "      <td>0.262317</td>\n",
              "    </tr>\n",
              "    <tr>\n",
              "      <th>2</th>\n",
              "      <td>0.247956</td>\n",
              "      <td>-0.090641</td>\n",
              "      <td>0.045292</td>\n",
              "      <td>1.217715</td>\n",
              "      <td>-0.034095</td>\n",
              "      <td>0.926666</td>\n",
              "      <td>-0.782234</td>\n",
              "      <td>-0.276689</td>\n",
              "      <td>0.39298</td>\n",
              "      <td>-1.430470</td>\n",
              "      <td>-0.145189</td>\n",
              "      <td>-0.217407</td>\n",
              "      <td>-0.038346</td>\n",
              "      <td>0.262317</td>\n",
              "    </tr>\n",
              "    <tr>\n",
              "      <th>3</th>\n",
              "      <td>-0.850587</td>\n",
              "      <td>-1.884720</td>\n",
              "      <td>0.793152</td>\n",
              "      <td>0.184396</td>\n",
              "      <td>-0.423425</td>\n",
              "      <td>0.926666</td>\n",
              "      <td>-0.530388</td>\n",
              "      <td>0.968753</td>\n",
              "      <td>0.39298</td>\n",
              "      <td>0.699071</td>\n",
              "      <td>-0.145189</td>\n",
              "      <td>-0.217407</td>\n",
              "      <td>-0.038346</td>\n",
              "      <td>0.262317</td>\n",
              "    </tr>\n",
              "    <tr>\n",
              "      <th>4</th>\n",
              "      <td>-0.044989</td>\n",
              "      <td>-2.781760</td>\n",
              "      <td>-0.853275</td>\n",
              "      <td>0.442726</td>\n",
              "      <td>1.523223</td>\n",
              "      <td>-0.402341</td>\n",
              "      <td>-0.782234</td>\n",
              "      <td>-0.899410</td>\n",
              "      <td>0.39298</td>\n",
              "      <td>0.699071</td>\n",
              "      <td>-0.145189</td>\n",
              "      <td>-0.217407</td>\n",
              "      <td>-0.038346</td>\n",
              "      <td>0.262317</td>\n",
              "    </tr>\n",
              "  </tbody>\n",
              "</table>\n",
              "</div>"
            ],
            "text/plain": [
              "        age  workclass    fnlwgt  education  education.num  marital.status  \\\n",
              "0  0.101484   2.600478 -1.494279  -0.332263       1.133894       -0.402341   \n",
              "1  0.028248  -1.884720  0.438778   0.184396      -0.423425       -0.402341   \n",
              "2  0.247956  -0.090641  0.045292   1.217715      -0.034095        0.926666   \n",
              "3 -0.850587  -1.884720  0.793152   0.184396      -0.423425        0.926666   \n",
              "4 -0.044989  -2.781760 -0.853275   0.442726       1.523223       -0.402341   \n",
              "\n",
              "   occupation  relationship     race       sex  capital.gain  capital.loss  \\\n",
              "0   -0.782234      2.214196  0.39298 -1.430470     -0.145189     -0.217407   \n",
              "1   -0.026696     -0.899410  0.39298  0.699071     -0.145189     -0.217407   \n",
              "2   -0.782234     -0.276689  0.39298 -1.430470     -0.145189     -0.217407   \n",
              "3   -0.530388      0.968753  0.39298  0.699071     -0.145189     -0.217407   \n",
              "4   -0.782234     -0.899410  0.39298  0.699071     -0.145189     -0.217407   \n",
              "\n",
              "   hours.per.week  native.country  \n",
              "0       -1.662414        0.262317  \n",
              "1       -0.200753        0.262317  \n",
              "2       -0.038346        0.262317  \n",
              "3       -0.038346        0.262317  \n",
              "4       -0.038346        0.262317  "
            ]
          },
          "execution_count": 248,
          "metadata": {},
          "output_type": "execute_result"
        }
      ],
      "source": [
        "X_train.head()"
      ]
    },
    {
      "cell_type": "markdown",
      "metadata": {
        "id": "yESJ3i-wmNl2"
      },
      "source": [
        "## Modelo de Regresión Logística con todas las caracteríticas"
      ]
    },
    {
      "cell_type": "code",
      "execution_count": 249,
      "metadata": {
        "id": "JAoiCcvhj7Qx"
      },
      "outputs": [
        {
          "name": "stdout",
          "output_type": "stream",
          "text": [
            "Exactitud del modelo de Regresión Logística con todas las caracteríticas: 0.8217\n"
          ]
        }
      ],
      "source": [
        "# Finalmente creamos un modelo de Regresión y lo entrenamos\n",
        "from sklearn.linear_model import LogisticRegression\n",
        "from sklearn.metrics import accuracy_score\n",
        "\n",
        "logreg = LogisticRegression()\n",
        "logreg.fit(X_train, y_train)\n",
        "y_pred = logreg.predict(X_test)\n",
        "\n",
        "print('Exactitud del modelo de Regresión Logística con todas las caracteríticas: {0:0.4f}'. format(accuracy_score(y_test, y_pred)))"
      ]
    },
    {
      "cell_type": "markdown",
      "metadata": {
        "id": "wOIdBYmXmeaO"
      },
      "source": [
        "# Ahora a trabajar...\n",
        "\n",
        "1. Les propongo primero hacer una breve exploración de los datos originales (pueden usar gráficos tipo pair-plot, de densidad, de barras; pueden usar resultados estadísticos con describe(), por ejemplo) y decidir **con cuántas columnas menos** entrenar para lograr un mejor (o igual, en general) accuracy o exactitud.\n",
        "\n",
        "2. Hacer un PCA sobre el conjunto de datos original, tratando de analizar la variaza explicada y seleccionado un porcentaje que permita reducir el conjunto de datos de entrada logrando un mejor (o igual, en general) accuracy o exactitud.\n",
        "\n",
        "3. Reportar los resultados en una tabla comparativa del modelo original, el modelo con una exploración \"a ojo\" y el modelo con reducción de dimensionalidad con PCA con una breve conclusión."
      ]
    },
    {
      "cell_type": "markdown",
      "metadata": {
        "id": "WujZhkiTnp_s"
      },
      "source": [
        "## 1."
      ]
    },
    {
      "cell_type": "markdown",
      "metadata": {},
      "source": [
        "#Leemos los datos"
      ]
    },
    {
      "cell_type": "code",
      "execution_count": 250,
      "metadata": {},
      "outputs": [
        {
          "data": {
            "text/html": [
              "<div>\n",
              "<style scoped>\n",
              "    .dataframe tbody tr th:only-of-type {\n",
              "        vertical-align: middle;\n",
              "    }\n",
              "\n",
              "    .dataframe tbody tr th {\n",
              "        vertical-align: top;\n",
              "    }\n",
              "\n",
              "    .dataframe thead th {\n",
              "        text-align: right;\n",
              "    }\n",
              "</style>\n",
              "<table border=\"1\" class=\"dataframe\">\n",
              "  <thead>\n",
              "    <tr style=\"text-align: right;\">\n",
              "      <th></th>\n",
              "      <th>age</th>\n",
              "      <th>workclass</th>\n",
              "      <th>fnlwgt</th>\n",
              "      <th>education</th>\n",
              "      <th>education.num</th>\n",
              "      <th>marital.status</th>\n",
              "      <th>occupation</th>\n",
              "      <th>relationship</th>\n",
              "      <th>race</th>\n",
              "      <th>sex</th>\n",
              "      <th>capital.gain</th>\n",
              "      <th>capital.loss</th>\n",
              "      <th>hours.per.week</th>\n",
              "      <th>native.country</th>\n",
              "      <th>income</th>\n",
              "    </tr>\n",
              "  </thead>\n",
              "  <tbody>\n",
              "    <tr>\n",
              "      <th>0</th>\n",
              "      <td>90</td>\n",
              "      <td>Private</td>\n",
              "      <td>77053</td>\n",
              "      <td>HS-grad</td>\n",
              "      <td>9</td>\n",
              "      <td>Widowed</td>\n",
              "      <td>Prof-specialty</td>\n",
              "      <td>Not-in-family</td>\n",
              "      <td>White</td>\n",
              "      <td>Female</td>\n",
              "      <td>0</td>\n",
              "      <td>4356</td>\n",
              "      <td>40</td>\n",
              "      <td>United-States</td>\n",
              "      <td>&lt;=50K</td>\n",
              "    </tr>\n",
              "    <tr>\n",
              "      <th>1</th>\n",
              "      <td>82</td>\n",
              "      <td>Private</td>\n",
              "      <td>132870</td>\n",
              "      <td>HS-grad</td>\n",
              "      <td>9</td>\n",
              "      <td>Widowed</td>\n",
              "      <td>Exec-managerial</td>\n",
              "      <td>Not-in-family</td>\n",
              "      <td>White</td>\n",
              "      <td>Female</td>\n",
              "      <td>0</td>\n",
              "      <td>4356</td>\n",
              "      <td>18</td>\n",
              "      <td>United-States</td>\n",
              "      <td>&lt;=50K</td>\n",
              "    </tr>\n",
              "    <tr>\n",
              "      <th>2</th>\n",
              "      <td>66</td>\n",
              "      <td>Private</td>\n",
              "      <td>186061</td>\n",
              "      <td>Some-college</td>\n",
              "      <td>10</td>\n",
              "      <td>Widowed</td>\n",
              "      <td>Prof-specialty</td>\n",
              "      <td>Unmarried</td>\n",
              "      <td>Black</td>\n",
              "      <td>Female</td>\n",
              "      <td>0</td>\n",
              "      <td>4356</td>\n",
              "      <td>40</td>\n",
              "      <td>United-States</td>\n",
              "      <td>&lt;=50K</td>\n",
              "    </tr>\n",
              "    <tr>\n",
              "      <th>3</th>\n",
              "      <td>54</td>\n",
              "      <td>Private</td>\n",
              "      <td>140359</td>\n",
              "      <td>7th-8th</td>\n",
              "      <td>4</td>\n",
              "      <td>Divorced</td>\n",
              "      <td>Machine-op-inspct</td>\n",
              "      <td>Unmarried</td>\n",
              "      <td>White</td>\n",
              "      <td>Female</td>\n",
              "      <td>0</td>\n",
              "      <td>3900</td>\n",
              "      <td>40</td>\n",
              "      <td>United-States</td>\n",
              "      <td>&lt;=50K</td>\n",
              "    </tr>\n",
              "    <tr>\n",
              "      <th>4</th>\n",
              "      <td>41</td>\n",
              "      <td>Private</td>\n",
              "      <td>264663</td>\n",
              "      <td>Some-college</td>\n",
              "      <td>10</td>\n",
              "      <td>Separated</td>\n",
              "      <td>Prof-specialty</td>\n",
              "      <td>Own-child</td>\n",
              "      <td>White</td>\n",
              "      <td>Female</td>\n",
              "      <td>0</td>\n",
              "      <td>3900</td>\n",
              "      <td>40</td>\n",
              "      <td>United-States</td>\n",
              "      <td>&lt;=50K</td>\n",
              "    </tr>\n",
              "    <tr>\n",
              "      <th>5</th>\n",
              "      <td>34</td>\n",
              "      <td>Private</td>\n",
              "      <td>216864</td>\n",
              "      <td>HS-grad</td>\n",
              "      <td>9</td>\n",
              "      <td>Divorced</td>\n",
              "      <td>Other-service</td>\n",
              "      <td>Unmarried</td>\n",
              "      <td>White</td>\n",
              "      <td>Female</td>\n",
              "      <td>0</td>\n",
              "      <td>3770</td>\n",
              "      <td>45</td>\n",
              "      <td>United-States</td>\n",
              "      <td>&lt;=50K</td>\n",
              "    </tr>\n",
              "    <tr>\n",
              "      <th>6</th>\n",
              "      <td>38</td>\n",
              "      <td>Private</td>\n",
              "      <td>150601</td>\n",
              "      <td>10th</td>\n",
              "      <td>6</td>\n",
              "      <td>Separated</td>\n",
              "      <td>Adm-clerical</td>\n",
              "      <td>Unmarried</td>\n",
              "      <td>White</td>\n",
              "      <td>Male</td>\n",
              "      <td>0</td>\n",
              "      <td>3770</td>\n",
              "      <td>40</td>\n",
              "      <td>United-States</td>\n",
              "      <td>&lt;=50K</td>\n",
              "    </tr>\n",
              "    <tr>\n",
              "      <th>7</th>\n",
              "      <td>74</td>\n",
              "      <td>State-gov</td>\n",
              "      <td>88638</td>\n",
              "      <td>Doctorate</td>\n",
              "      <td>16</td>\n",
              "      <td>Never-married</td>\n",
              "      <td>Prof-specialty</td>\n",
              "      <td>Other-relative</td>\n",
              "      <td>White</td>\n",
              "      <td>Female</td>\n",
              "      <td>0</td>\n",
              "      <td>3683</td>\n",
              "      <td>20</td>\n",
              "      <td>United-States</td>\n",
              "      <td>&gt;50K</td>\n",
              "    </tr>\n",
              "    <tr>\n",
              "      <th>8</th>\n",
              "      <td>68</td>\n",
              "      <td>Federal-gov</td>\n",
              "      <td>422013</td>\n",
              "      <td>HS-grad</td>\n",
              "      <td>9</td>\n",
              "      <td>Divorced</td>\n",
              "      <td>Prof-specialty</td>\n",
              "      <td>Not-in-family</td>\n",
              "      <td>White</td>\n",
              "      <td>Female</td>\n",
              "      <td>0</td>\n",
              "      <td>3683</td>\n",
              "      <td>40</td>\n",
              "      <td>United-States</td>\n",
              "      <td>&lt;=50K</td>\n",
              "    </tr>\n",
              "    <tr>\n",
              "      <th>9</th>\n",
              "      <td>41</td>\n",
              "      <td>Private</td>\n",
              "      <td>70037</td>\n",
              "      <td>Some-college</td>\n",
              "      <td>10</td>\n",
              "      <td>Never-married</td>\n",
              "      <td>Craft-repair</td>\n",
              "      <td>Unmarried</td>\n",
              "      <td>White</td>\n",
              "      <td>Male</td>\n",
              "      <td>0</td>\n",
              "      <td>3004</td>\n",
              "      <td>60</td>\n",
              "      <td>United-States</td>\n",
              "      <td>&gt;50K</td>\n",
              "    </tr>\n",
              "  </tbody>\n",
              "</table>\n",
              "</div>"
            ],
            "text/plain": [
              "   age    workclass  fnlwgt     education  education.num marital.status  \\\n",
              "0   90      Private   77053       HS-grad              9        Widowed   \n",
              "1   82      Private  132870       HS-grad              9        Widowed   \n",
              "2   66      Private  186061  Some-college             10        Widowed   \n",
              "3   54      Private  140359       7th-8th              4       Divorced   \n",
              "4   41      Private  264663  Some-college             10      Separated   \n",
              "5   34      Private  216864       HS-grad              9       Divorced   \n",
              "6   38      Private  150601          10th              6      Separated   \n",
              "7   74    State-gov   88638     Doctorate             16  Never-married   \n",
              "8   68  Federal-gov  422013       HS-grad              9       Divorced   \n",
              "9   41      Private   70037  Some-college             10  Never-married   \n",
              "\n",
              "          occupation    relationship   race     sex  capital.gain  \\\n",
              "0     Prof-specialty   Not-in-family  White  Female             0   \n",
              "1    Exec-managerial   Not-in-family  White  Female             0   \n",
              "2     Prof-specialty       Unmarried  Black  Female             0   \n",
              "3  Machine-op-inspct       Unmarried  White  Female             0   \n",
              "4     Prof-specialty       Own-child  White  Female             0   \n",
              "5      Other-service       Unmarried  White  Female             0   \n",
              "6       Adm-clerical       Unmarried  White    Male             0   \n",
              "7     Prof-specialty  Other-relative  White  Female             0   \n",
              "8     Prof-specialty   Not-in-family  White  Female             0   \n",
              "9       Craft-repair       Unmarried  White    Male             0   \n",
              "\n",
              "   capital.loss  hours.per.week native.country income  \n",
              "0          4356              40  United-States  <=50K  \n",
              "1          4356              18  United-States  <=50K  \n",
              "2          4356              40  United-States  <=50K  \n",
              "3          3900              40  United-States  <=50K  \n",
              "4          3900              40  United-States  <=50K  \n",
              "5          3770              45  United-States  <=50K  \n",
              "6          3770              40  United-States  <=50K  \n",
              "7          3683              20  United-States   >50K  \n",
              "8          3683              40  United-States  <=50K  \n",
              "9          3004              60  United-States   >50K  "
            ]
          },
          "execution_count": 250,
          "metadata": {},
          "output_type": "execute_result"
        }
      ],
      "source": [
        "df.head(10)"
      ]
    },
    {
      "cell_type": "code",
      "execution_count": 251,
      "metadata": {},
      "outputs": [
        {
          "name": "stdout",
          "output_type": "stream",
          "text": [
            "<class 'pandas.core.frame.DataFrame'>\n",
            "RangeIndex: 32561 entries, 0 to 32560\n",
            "Data columns (total 15 columns):\n",
            " #   Column          Non-Null Count  Dtype \n",
            "---  ------          --------------  ----- \n",
            " 0   age             32561 non-null  int64 \n",
            " 1   workclass       32561 non-null  object\n",
            " 2   fnlwgt          32561 non-null  int64 \n",
            " 3   education       32561 non-null  object\n",
            " 4   education.num   32561 non-null  int64 \n",
            " 5   marital.status  32561 non-null  object\n",
            " 6   occupation      32561 non-null  object\n",
            " 7   relationship    32561 non-null  object\n",
            " 8   race            32561 non-null  object\n",
            " 9   sex             32561 non-null  object\n",
            " 10  capital.gain    32561 non-null  int64 \n",
            " 11  capital.loss    32561 non-null  int64 \n",
            " 12  hours.per.week  32561 non-null  int64 \n",
            " 13  native.country  32561 non-null  object\n",
            " 14  income          32561 non-null  object\n",
            "dtypes: int64(6), object(9)\n",
            "memory usage: 3.7+ MB\n"
          ]
        }
      ],
      "source": [
        "df.info()"
      ]
    },
    {
      "cell_type": "code",
      "execution_count": 252,
      "metadata": {},
      "outputs": [
        {
          "name": "stdout",
          "output_type": "stream",
          "text": [
            "Tamaño del set de datos como tupla :  (32561, 15)\n",
            "Filas                              :  32561\n",
            "Columnas                           :  15\n",
            "---------------------------------------- \n",
            "Caracteríticas:\n",
            "['age', 'workclass', 'fnlwgt', 'education', 'education.num', 'marital.status', 'occupation', 'relationship', 'race', 'sex', 'capital.gain', 'capital.loss', 'hours.per.week', 'native.country', 'income']\n",
            "---------------------------------------- \n",
            "Valores nulos:\n",
            "\n",
            "age               0\n",
            "workclass         0\n",
            "fnlwgt            0\n",
            "education         0\n",
            "education.num     0\n",
            "marital.status    0\n",
            "occupation        0\n",
            "relationship      0\n",
            "race              0\n",
            "sex               0\n",
            "capital.gain      0\n",
            "capital.loss      0\n",
            "hours.per.week    0\n",
            "native.country    0\n",
            "income            0\n",
            "dtype: int64\n",
            "---------------------------------------- \n",
            "Porcentaje de valores nulos:\n",
            "\n",
            "age               0.0\n",
            "workclass         0.0\n",
            "fnlwgt            0.0\n",
            "education         0.0\n",
            "education.num     0.0\n",
            "marital.status    0.0\n",
            "occupation        0.0\n",
            "relationship      0.0\n",
            "race              0.0\n",
            "sex               0.0\n",
            "capital.gain      0.0\n",
            "capital.loss      0.0\n",
            "hours.per.week    0.0\n",
            "native.country    0.0\n",
            "income            0.0\n",
            "dtype: float64\n"
          ]
        }
      ],
      "source": [
        "# Analizando el tamaño del conjunto de datos:\n",
        "print (\"Tamaño del set de datos como tupla : \", df.shape)\n",
        "print (\"Filas                              : \", df.shape[0])\n",
        "print (\"Columnas                           : \", df.shape[1])\n",
        "# Listando el conjunto de características (nombre de columnas):\n",
        "print (\"-\"*40,\"\\nCaracteríticas:\")\n",
        "print (df.columns.tolist())\n",
        "# Listando la cantidad de valores nulos por columna (de mayor a menor):\n",
        "print (\"-\"*40,\"\\nValores nulos:\\n\")\n",
        "print (df.isnull().sum().sort_values(ascending = False))\n",
        "# Listando el porcentaje de valores nulos sobre el total:\n",
        "print ( \"-\"*40,\"\\nPorcentaje de valores nulos:\\n\")\n",
        "print (round(df.isnull().sum() * 100 / df.isnull().count(), 2))"
      ]
    },
    {
      "cell_type": "code",
      "execution_count": 253,
      "metadata": {},
      "outputs": [
        {
          "name": "stdout",
          "output_type": "stream",
          "text": [
            "---------------------------------------- \n",
            "Valores únicos:\n",
            "\n",
            "age                  73\n",
            "workclass             8\n",
            "fnlwgt            21648\n",
            "education            16\n",
            "education.num        16\n",
            "marital.status        7\n",
            "occupation           14\n",
            "relationship          6\n",
            "race                  5\n",
            "sex                   2\n",
            "capital.gain        119\n",
            "capital.loss         92\n",
            "hours.per.week       94\n",
            "native.country       41\n",
            "income                2\n",
            "dtype: int64\n"
          ]
        }
      ],
      "source": [
        "# Listando la cantidad de valores únicos por columna:\n",
        "print (\"-\"*40,\"\\nValores únicos:\\n\")\n",
        "print (df.nunique())"
      ]
    },
    {
      "cell_type": "code",
      "execution_count": 254,
      "metadata": {},
      "outputs": [
        {
          "name": "stdout",
          "output_type": "stream",
          "text": [
            "<class 'pandas.core.frame.DataFrame'>\n",
            "RangeIndex: 32561 entries, 0 to 32560\n",
            "Data columns (total 15 columns):\n",
            " #   Column          Non-Null Count  Dtype \n",
            "---  ------          --------------  ----- \n",
            " 0   age             32561 non-null  int64 \n",
            " 1   workclass       32561 non-null  object\n",
            " 2   fnlwgt          32561 non-null  int64 \n",
            " 3   education       32561 non-null  object\n",
            " 4   education.num   32561 non-null  int64 \n",
            " 5   marital.status  32561 non-null  object\n",
            " 6   occupation      32561 non-null  object\n",
            " 7   relationship    32561 non-null  object\n",
            " 8   race            32561 non-null  object\n",
            " 9   sex             32561 non-null  object\n",
            " 10  capital.gain    32561 non-null  int64 \n",
            " 11  capital.loss    32561 non-null  int64 \n",
            " 12  hours.per.week  32561 non-null  int64 \n",
            " 13  native.country  32561 non-null  object\n",
            " 14  income          32561 non-null  object\n",
            "dtypes: int64(6), object(9)\n",
            "memory usage: 3.7+ MB\n"
          ]
        }
      ],
      "source": [
        "df.info()"
      ]
    },
    {
      "cell_type": "code",
      "execution_count": 255,
      "metadata": {},
      "outputs": [],
      "source": [
        "#Transformamos las variables workclass, education, marital.status, occupation, relationship, race, capital.gain, capital.loss, \n",
        "# hours.per.week y native.country a categoricas\n",
        "categorical_columns = ['workclass', 'education', 'marital.status', 'occupation', \n",
        "                       'relationship', 'race', 'native.country','sex','income']\n",
        "\n",
        "df[categorical_columns] = df[categorical_columns].astype('category')"
      ]
    },
    {
      "cell_type": "code",
      "execution_count": 256,
      "metadata": {},
      "outputs": [
        {
          "name": "stdout",
          "output_type": "stream",
          "text": [
            "<class 'pandas.core.frame.DataFrame'>\n",
            "RangeIndex: 32561 entries, 0 to 32560\n",
            "Data columns (total 15 columns):\n",
            " #   Column          Non-Null Count  Dtype   \n",
            "---  ------          --------------  -----   \n",
            " 0   age             32561 non-null  int64   \n",
            " 1   workclass       32561 non-null  category\n",
            " 2   fnlwgt          32561 non-null  int64   \n",
            " 3   education       32561 non-null  category\n",
            " 4   education.num   32561 non-null  int64   \n",
            " 5   marital.status  32561 non-null  category\n",
            " 6   occupation      32561 non-null  category\n",
            " 7   relationship    32561 non-null  category\n",
            " 8   race            32561 non-null  category\n",
            " 9   sex             32561 non-null  category\n",
            " 10  capital.gain    32561 non-null  int64   \n",
            " 11  capital.loss    32561 non-null  int64   \n",
            " 12  hours.per.week  32561 non-null  int64   \n",
            " 13  native.country  32561 non-null  category\n",
            " 14  income          32561 non-null  category\n",
            "dtypes: category(9), int64(6)\n",
            "memory usage: 1.8 MB\n"
          ]
        }
      ],
      "source": [
        "#Verificamos el dataframe\n",
        "df.info()"
      ]
    },
    {
      "cell_type": "markdown",
      "metadata": {},
      "source": [
        "#Análisis univariado"
      ]
    },
    {
      "cell_type": "code",
      "execution_count": 257,
      "metadata": {},
      "outputs": [],
      "source": [
        "import warnings\n",
        "warnings.filterwarnings(\"ignore\", category=UserWarning, message=\"The figure layout has changed to tight\")"
      ]
    },
    {
      "cell_type": "code",
      "execution_count": 258,
      "metadata": {},
      "outputs": [
        {
          "data": {
            "image/png": "[encoded data removed]",
            "text/plain": [
              "<Figure size 1000x1000 with 6 Axes>"
            ]
          },
          "metadata": {},
          "output_type": "display_data"
        }
      ],
      "source": [
        "#Vemos los gráficos para las variables tipo numéricas\n",
        "plt.style.use('ggplot')\n",
        "numeric_columns = df.select_dtypes(include=np.number).columns.tolist()\n",
        "plt.figure(figsize=(10, 10))\n",
        "\n",
        "for i, variable in enumerate(numeric_columns):\n",
        "    plt.subplot(3, 3, i + 1)\n",
        "    sns.histplot(df[variable], kde=False, color='blue')\n",
        "    plt.title(variable, fontsize=12)\n",
        "    plt.xlabel(variable, fontsize=10, color='gray', fontstyle='italic')  \n",
        "    plt.ylabel('Frequency', fontsize=10, color='gray', fontstyle='italic')  \n",
        "    plt.tick_params(axis='x', labelsize=8, colors='gray')  \n",
        "    plt.tick_params(axis='y', labelsize=8, colors='gray')\n",
        "\n",
        "    if variable == 'hours.per.week':\n",
        "        plt.ylim(0, 3000)\n",
        "\n",
        "    plt.tight_layout()\n",
        "\n",
        "plt.show()"
      ]
    },
    {
      "cell_type": "code",
      "execution_count": 259,
      "metadata": {},
      "outputs": [
        {
          "data": {
            "image/png": "[encoded data removed]",
            "text/plain": [
              "<Figure size 1600x1600 with 9 Axes>"
            ]
          },
          "metadata": {},
          "output_type": "display_data"
        }
      ],
      "source": [
        "#Vemos los gráficos para las variables tipo categoricas (restringido a un top 7)\n",
        "categorical_columns = df.select_dtypes(include='category').columns.tolist()\n",
        "plt.figure(figsize=(16, 16))\n",
        "gs = GridSpec((len(categorical_columns) + 3) // 3, 3, hspace=0.8, wspace=0.4)  \n",
        "\n",
        "for i, variable in enumerate(categorical_columns):\n",
        "    ax = plt.subplot(gs[i])  \n",
        "    percentage_df = df[variable].value_counts(normalize=True).reset_index()\n",
        "    percentage_df.columns = [variable, 'Percentage']\n",
        "    percentage_df.sort_values(by='Percentage', ascending=False, inplace=True)\n",
        "    top_7_df = percentage_df.head(7)\n",
        "    sns.barplot(x=variable, y='Percentage', data=top_7_df, ax=ax, color='blue', order=top_7_df[variable])\n",
        "    ax.set_title(variable, fontsize=12)  \n",
        "    ax.set_xticks(range(len(top_7_df)))  \n",
        "    ax.set_xticklabels(top_7_df[variable], rotation=30, fontsize=8, fontstyle='italic', color='gray')  \n",
        "    ax.tick_params(axis='y', labelsize=8, colors='gray')  \n",
        "    ax.set_ylabel('Percentage', fontsize=10, fontstyle='italic', color='gray')  \n",
        "    ax.set_xlabel(variable, fontsize=10, fontstyle='italic', color='gray')  \n",
        "plt.subplots_adjust(hspace=0.5, wspace=0.4)\n",
        "plt.show()"
      ]
    },
    {
      "cell_type": "code",
      "execution_count": 260,
      "metadata": {},
      "outputs": [],
      "source": [
        "#Transformamos las variables sex e income a binarias\n",
        "df['sex'] = df['sex'].map({'Male': 1, 'Female': 0}).astype(int)\n",
        "df['income'] = df['income'].map({'>50K': 1, '<=50K': 0}).astype(int)"
      ]
    },
    {
      "cell_type": "code",
      "execution_count": 261,
      "metadata": {},
      "outputs": [
        {
          "name": "stdout",
          "output_type": "stream",
          "text": [
            "<class 'pandas.core.frame.DataFrame'>\n",
            "RangeIndex: 32561 entries, 0 to 32560\n",
            "Data columns (total 15 columns):\n",
            " #   Column          Non-Null Count  Dtype   \n",
            "---  ------          --------------  -----   \n",
            " 0   age             32561 non-null  int64   \n",
            " 1   workclass       32561 non-null  category\n",
            " 2   fnlwgt          32561 non-null  int64   \n",
            " 3   education       32561 non-null  category\n",
            " 4   education.num   32561 non-null  int64   \n",
            " 5   marital.status  32561 non-null  category\n",
            " 6   occupation      32561 non-null  category\n",
            " 7   relationship    32561 non-null  category\n",
            " 8   race            32561 non-null  category\n",
            " 9   sex             32561 non-null  int32   \n",
            " 10  capital.gain    32561 non-null  int64   \n",
            " 11  capital.loss    32561 non-null  int64   \n",
            " 12  hours.per.week  32561 non-null  int64   \n",
            " 13  native.country  32561 non-null  category\n",
            " 14  income          32561 non-null  int32   \n",
            "dtypes: category(7), int32(2), int64(6)\n",
            "memory usage: 2.0 MB\n"
          ]
        }
      ],
      "source": [
        "df.info()"
      ]
    },
    {
      "cell_type": "code",
      "execution_count": 262,
      "metadata": {},
      "outputs": [],
      "source": [
        "#Creamos un nuevo df con las variables tipo entero\n",
        "df_int = df.select_dtypes(include='int')"
      ]
    },
    {
      "cell_type": "code",
      "execution_count": 263,
      "metadata": {},
      "outputs": [
        {
          "data": {
            "text/html": [
              "<div>\n",
              "<style scoped>\n",
              "    .dataframe tbody tr th:only-of-type {\n",
              "        vertical-align: middle;\n",
              "    }\n",
              "\n",
              "    .dataframe tbody tr th {\n",
              "        vertical-align: top;\n",
              "    }\n",
              "\n",
              "    .dataframe thead th {\n",
              "        text-align: right;\n",
              "    }\n",
              "</style>\n",
              "<table border=\"1\" class=\"dataframe\">\n",
              "  <thead>\n",
              "    <tr style=\"text-align: right;\">\n",
              "      <th></th>\n",
              "      <th>age</th>\n",
              "      <th>fnlwgt</th>\n",
              "      <th>education.num</th>\n",
              "      <th>sex</th>\n",
              "      <th>capital.gain</th>\n",
              "      <th>capital.loss</th>\n",
              "      <th>hours.per.week</th>\n",
              "      <th>income</th>\n",
              "    </tr>\n",
              "  </thead>\n",
              "  <tbody>\n",
              "    <tr>\n",
              "      <th>0</th>\n",
              "      <td>90</td>\n",
              "      <td>77053</td>\n",
              "      <td>9</td>\n",
              "      <td>0</td>\n",
              "      <td>0</td>\n",
              "      <td>4356</td>\n",
              "      <td>40</td>\n",
              "      <td>0</td>\n",
              "    </tr>\n",
              "    <tr>\n",
              "      <th>1</th>\n",
              "      <td>82</td>\n",
              "      <td>132870</td>\n",
              "      <td>9</td>\n",
              "      <td>0</td>\n",
              "      <td>0</td>\n",
              "      <td>4356</td>\n",
              "      <td>18</td>\n",
              "      <td>0</td>\n",
              "    </tr>\n",
              "    <tr>\n",
              "      <th>2</th>\n",
              "      <td>66</td>\n",
              "      <td>186061</td>\n",
              "      <td>10</td>\n",
              "      <td>0</td>\n",
              "      <td>0</td>\n",
              "      <td>4356</td>\n",
              "      <td>40</td>\n",
              "      <td>0</td>\n",
              "    </tr>\n",
              "    <tr>\n",
              "      <th>3</th>\n",
              "      <td>54</td>\n",
              "      <td>140359</td>\n",
              "      <td>4</td>\n",
              "      <td>0</td>\n",
              "      <td>0</td>\n",
              "      <td>3900</td>\n",
              "      <td>40</td>\n",
              "      <td>0</td>\n",
              "    </tr>\n",
              "    <tr>\n",
              "      <th>4</th>\n",
              "      <td>41</td>\n",
              "      <td>264663</td>\n",
              "      <td>10</td>\n",
              "      <td>0</td>\n",
              "      <td>0</td>\n",
              "      <td>3900</td>\n",
              "      <td>40</td>\n",
              "      <td>0</td>\n",
              "    </tr>\n",
              "  </tbody>\n",
              "</table>\n",
              "</div>"
            ],
            "text/plain": [
              "   age  fnlwgt  education.num  sex  capital.gain  capital.loss  \\\n",
              "0   90   77053              9    0             0          4356   \n",
              "1   82  132870              9    0             0          4356   \n",
              "2   66  186061             10    0             0          4356   \n",
              "3   54  140359              4    0             0          3900   \n",
              "4   41  264663             10    0             0          3900   \n",
              "\n",
              "   hours.per.week  income  \n",
              "0              40       0  \n",
              "1              18       0  \n",
              "2              40       0  \n",
              "3              40       0  \n",
              "4              40       0  "
            ]
          },
          "execution_count": 263,
          "metadata": {},
          "output_type": "execute_result"
        }
      ],
      "source": [
        "df_int.head()"
      ]
    },
    {
      "cell_type": "markdown",
      "metadata": {},
      "source": [
        "#Matriz de correlación"
      ]
    },
    {
      "cell_type": "code",
      "execution_count": 264,
      "metadata": {},
      "outputs": [
        {
          "name": "stdout",
          "output_type": "stream",
          "text": [
            "income            1.000000\n",
            "education.num     0.335154\n",
            "age               0.234037\n",
            "hours.per.week    0.229689\n",
            "capital.gain      0.223329\n",
            "sex               0.215980\n",
            "capital.loss      0.150526\n",
            "fnlwgt           -0.009463\n",
            "Name: income, dtype: float64\n"
          ]
        }
      ],
      "source": [
        "#Planteamos la matriz de correlación respecto a la columna objetivo \"income\", para las variables de tipo entero\n",
        "correlation_matrix = df_int.corr()\n",
        "income_correlation = correlation_matrix['income']\n",
        "income_correlation_sorted = income_correlation.sort_values(ascending=False)\n",
        "print(income_correlation_sorted)"
      ]
    },
    {
      "cell_type": "markdown",
      "metadata": {},
      "source": [
        "#Seleccionamos los 5 atributos principales para el modelo de Regresión Logística: \n",
        "\n",
        "    #education.num\n",
        "    #age\n",
        "    #hours.per.week\n",
        "    #capital.gain\n",
        "    #sex"
      ]
    },
    {
      "cell_type": "code",
      "execution_count": 265,
      "metadata": {},
      "outputs": [
        {
          "data": {
            "text/plain": [
              "(array([[ 9, 90, 40,  0,  0],\n",
              "        [ 9, 82, 18,  0,  0],\n",
              "        [10, 66, 40,  0,  0],\n",
              "        ...,\n",
              "        [ 9, 40, 40,  0,  1],\n",
              "        [ 9, 58, 40,  0,  0],\n",
              "        [ 9, 22, 20,  0,  1]], dtype=int64),\n",
              " array([0, 0, 0, ..., 1, 0, 0]))"
            ]
          },
          "execution_count": 265,
          "metadata": {},
          "output_type": "execute_result"
        }
      ],
      "source": [
        "X = df[['education.num', 'age', 'hours.per.week', 'capital.gain', 'sex']] \n",
        "y=df['income']\n",
        "X = X.values\n",
        "y = y.values\n",
        "X,y"
      ]
    },
    {
      "cell_type": "markdown",
      "metadata": {},
      "source": [
        "#Split del dataset"
      ]
    },
    {
      "cell_type": "code",
      "execution_count": 266,
      "metadata": {},
      "outputs": [],
      "source": [
        "X_train, X_test, y_train, y_test = train_test_split(X, y, test_size=0.2, random_state=33)"
      ]
    },
    {
      "cell_type": "code",
      "execution_count": 267,
      "metadata": {},
      "outputs": [
        {
          "name": "stdout",
          "output_type": "stream",
          "text": [
            "Cantidad de datos para entrenamiento:  26048\n",
            "Cantidad de datos para test:  6513\n"
          ]
        }
      ],
      "source": [
        "print('Cantidad de datos para entrenamiento: ', len(X_train))\n",
        "print('Cantidad de datos para test: ', len(X_test))"
      ]
    },
    {
      "cell_type": "markdown",
      "metadata": {},
      "source": [
        "#Ahora aplicamos el modelo de Regresión Logística"
      ]
    },
    {
      "cell_type": "code",
      "execution_count": 268,
      "metadata": {},
      "outputs": [],
      "source": [
        "classifier = LogisticRegression()"
      ]
    },
    {
      "cell_type": "code",
      "execution_count": 269,
      "metadata": {},
      "outputs": [
        {
          "data": {
            "text/html": [
              "<style>#sk-container-id-5 {color: black;}#sk-container-id-5 pre{padding: 0;}#sk-container-id-5 div.sk-toggleable {background-color: white;}#sk-container-id-5 label.sk-toggleable__label {cursor: pointer;display: block;width: 100%;margin-bottom: 0;padding: 0.3em;box-sizing: border-box;text-align: center;}#sk-container-id-5 label.sk-toggleable__label-arrow:before {content: \"▸\";float: left;margin-right: 0.25em;color: #696969;}#sk-container-id-5 label.sk-toggleable__label-arrow:hover:before {color: black;}#sk-container-id-5 div.sk-estimator:hover label.sk-toggleable__label-arrow:before {color: black;}#sk-container-id-5 div.sk-toggleable__content {max-height: 0;max-width: 0;overflow: hidden;text-align: left;background-color: #f0f8ff;}#sk-container-id-5 div.sk-toggleable__content pre {margin: 0.2em;color: black;border-radius: 0.25em;background-color: #f0f8ff;}#sk-container-id-5 input.sk-toggleable__control:checked~div.sk-toggleable__content {max-height: 200px;max-width: 100%;overflow: auto;}#sk-container-id-5 input.sk-toggleable__control:checked~label.sk-toggleable__label-arrow:before {content: \"▾\";}#sk-container-id-5 div.sk-estimator input.sk-toggleable__control:checked~label.sk-toggleable__label {background-color: #d4ebff;}#sk-container-id-5 div.sk-label input.sk-toggleable__control:checked~label.sk-toggleable__label {background-color: #d4ebff;}#sk-container-id-5 input.sk-hidden--visually {border: 0;clip: rect(1px 1px 1px 1px);clip: rect(1px, 1px, 1px, 1px);height: 1px;margin: -1px;overflow: hidden;padding: 0;position: absolute;width: 1px;}#sk-container-id-5 div.sk-estimator {font-family: monospace;background-color: #f0f8ff;border: 1px dotted black;border-radius: 0.25em;box-sizing: border-box;margin-bottom: 0.5em;}#sk-container-id-5 div.sk-estimator:hover {background-color: #d4ebff;}#sk-container-id-5 div.sk-parallel-item::after {content: \"\";width: 100%;border-bottom: 1px solid gray;flex-grow: 1;}#sk-container-id-5 div.sk-label:hover label.sk-toggleable__label {background-color: #d4ebff;}#sk-container-id-5 div.sk-serial::before {content: \"\";position: absolute;border-left: 1px solid gray;box-sizing: border-box;top: 0;bottom: 0;left: 50%;z-index: 0;}#sk-container-id-5 div.sk-serial {display: flex;flex-direction: column;align-items: center;background-color: white;padding-right: 0.2em;padding-left: 0.2em;position: relative;}#sk-container-id-5 div.sk-item {position: relative;z-index: 1;}#sk-container-id-5 div.sk-parallel {display: flex;align-items: stretch;justify-content: center;background-color: white;position: relative;}#sk-container-id-5 div.sk-item::before, #sk-container-id-5 div.sk-parallel-item::before {content: \"\";position: absolute;border-left: 1px solid gray;box-sizing: border-box;top: 0;bottom: 0;left: 50%;z-index: -1;}#sk-container-id-5 div.sk-parallel-item {display: flex;flex-direction: column;z-index: 1;position: relative;background-color: white;}#sk-container-id-5 div.sk-parallel-item:first-child::after {align-self: flex-end;width: 50%;}#sk-container-id-5 div.sk-parallel-item:last-child::after {align-self: flex-start;width: 50%;}#sk-container-id-5 div.sk-parallel-item:only-child::after {width: 0;}#sk-container-id-5 div.sk-dashed-wrapped {border: 1px dashed gray;margin: 0 0.4em 0.5em 0.4em;box-sizing: border-box;padding-bottom: 0.4em;background-color: white;}#sk-container-id-5 div.sk-label label {font-family: monospace;font-weight: bold;display: inline-block;line-height: 1.2em;}#sk-container-id-5 div.sk-label-container {text-align: center;}#sk-container-id-5 div.sk-container {/* jupyter's `normalize.less` sets `[hidden] { display: none; }` but bootstrap.min.css set `[hidden] { display: none !important; }` so we also need the `!important` here to be able to override the default hidden behavior on the sphinx rendered scikit-learn.org. See: https://github.com/scikit-learn/scikit-learn/issues/21755 */display: inline-block !important;position: relative;}#sk-container-id-5 div.sk-text-repr-fallback {display: none;}</style><div id=\"sk-container-id-5\" class=\"sk-top-container\"><div class=\"sk-text-repr-fallback\"><pre>LogisticRegression()</pre><b>In a Jupyter environment, please rerun this cell to show the HTML representation or trust the notebook. <br />On GitHub, the HTML representation is unable to render, please try loading this page with nbviewer.org.</b></div><div class=\"sk-container\" hidden><div class=\"sk-item\"><div class=\"sk-estimator sk-toggleable\"><input class=\"sk-toggleable__control sk-hidden--visually\" id=\"sk-estimator-id-5\" type=\"checkbox\" checked><label for=\"sk-estimator-id-5\" class=\"sk-toggleable__label sk-toggleable__label-arrow\">LogisticRegression</label><div class=\"sk-toggleable__content\"><pre>LogisticRegression()</pre></div></div></div></div></div>"
            ],
            "text/plain": [
              "LogisticRegression()"
            ]
          },
          "execution_count": 269,
          "metadata": {},
          "output_type": "execute_result"
        }
      ],
      "source": [
        "classifier.fit(X_train, y_train)"
      ]
    },
    {
      "cell_type": "code",
      "execution_count": 270,
      "metadata": {},
      "outputs": [
        {
          "name": "stdout",
          "output_type": "stream",
          "text": [
            "Vector de coeficientes de la función lineal:  [[3.33504556e-01 4.20813828e-02 3.31572647e-02 2.91708332e-04\n",
            "  1.12445235e+00]]\n",
            "Ordenada en el origen (W0):  [-8.81740723]\n"
          ]
        }
      ],
      "source": [
        "print('Vector de coeficientes de la función lineal: ', classifier.coef_)\n",
        "print('Ordenada en el origen (W0): ', classifier.intercept_)"
      ]
    },
    {
      "cell_type": "markdown",
      "metadata": {},
      "source": [
        "#Ahora se va a corroborar como funciona el modelo con los datos de entrenamiento"
      ]
    },
    {
      "cell_type": "code",
      "execution_count": 271,
      "metadata": {},
      "outputs": [],
      "source": [
        "y_pred_train = classifier.predict(X_train)"
      ]
    },
    {
      "cell_type": "code",
      "execution_count": 272,
      "metadata": {},
      "outputs": [
        {
          "name": "stdout",
          "output_type": "stream",
          "text": [
            "Etiquetas de train reales:     [0 0 0 0 0 0 0 0 0 0 1 0 1 0 1 0 1 1 0 0]\n",
            "Etiquetas de train predichas:  [0 0 0 0 1 0 0 0 0 0 0 1 1 0 0 0 1 0 0 0]\n"
          ]
        }
      ],
      "source": [
        "print('Etiquetas de train reales:    ', y_train[:20])\n",
        "print('Etiquetas de train predichas: ', y_pred_train[:20])"
      ]
    },
    {
      "cell_type": "markdown",
      "metadata": {},
      "source": [
        "#Score de los datos de entrenamiento: "
      ]
    },
    {
      "cell_type": "code",
      "execution_count": 273,
      "metadata": {},
      "outputs": [
        {
          "data": {
            "text/plain": [
              "0.8175675675675675"
            ]
          },
          "execution_count": 273,
          "metadata": {},
          "output_type": "execute_result"
        }
      ],
      "source": [
        "classifier.score(X_train, y_train)"
      ]
    },
    {
      "cell_type": "markdown",
      "metadata": {},
      "source": [
        "#Ahora veeremos el desempeño del test: "
      ]
    },
    {
      "cell_type": "code",
      "execution_count": 274,
      "metadata": {},
      "outputs": [],
      "source": [
        "y_pred_test = classifier.predict(X_test)"
      ]
    },
    {
      "cell_type": "code",
      "execution_count": 275,
      "metadata": {},
      "outputs": [
        {
          "name": "stdout",
          "output_type": "stream",
          "text": [
            "Etiquetas de test reales:     [1 1 0 0 0 0 1 0 0 1 1 0 0 0 0 0 0 0 0 0]\n",
            "Etiquetas de test predichas:  [0 1 0 0 0 1 1 1 0 1 0 0 0 0 1 0 0 0 0 0]\n"
          ]
        }
      ],
      "source": [
        "print('Etiquetas de test reales:    ', y_test[:20])\n",
        "print('Etiquetas de test predichas: ', y_pred_test[:20])"
      ]
    },
    {
      "cell_type": "code",
      "execution_count": 276,
      "metadata": {},
      "outputs": [
        {
          "name": "stdout",
          "output_type": "stream",
          "text": [
            "Accuracy en test:  0.8246583755565792\n"
          ]
        }
      ],
      "source": [
        "print('Accuracy en test: ', classifier.score(X_test, y_test))"
      ]
    },
    {
      "cell_type": "markdown",
      "metadata": {},
      "source": [
        "#Vemos que utilizando solo 5 columnas, se obtuvo un accuracy muy similar al modelo original que utilizó todas los atributos"
      ]
    },
    {
      "cell_type": "markdown",
      "metadata": {},
      "source": [
        "## 2."
      ]
    },
    {
      "cell_type": "markdown",
      "metadata": {},
      "source": [
        "#Leemos los datos"
      ]
    },
    {
      "cell_type": "code",
      "execution_count": 277,
      "metadata": {},
      "outputs": [],
      "source": [
        "df = pd.read_csv(file, encoding='latin-1')"
      ]
    },
    {
      "cell_type": "code",
      "execution_count": 278,
      "metadata": {},
      "outputs": [],
      "source": [
        "# Existen algunas celdas con '?'. Las codificaremos como NaN\n",
        "df[df == '?'] = np.nan"
      ]
    },
    {
      "cell_type": "code",
      "execution_count": 279,
      "metadata": {},
      "outputs": [],
      "source": [
        "# Ahora recorreremos las columnas en la lista e inputaremos los datos\n",
        "# nulos (como son variables categóricas, las imputaremos con el\n",
        "# valor más frecuente, la moda)\n",
        "for col in ['workclass', 'occupation', 'native.country']:\n",
        "    df[col].fillna(df[col].mode()[0], inplace=True)"
      ]
    },
    {
      "cell_type": "code",
      "execution_count": 280,
      "metadata": {},
      "outputs": [
        {
          "data": {
            "text/plain": [
              "age               0\n",
              "workclass         0\n",
              "fnlwgt            0\n",
              "education         0\n",
              "education.num     0\n",
              "marital.status    0\n",
              "occupation        0\n",
              "relationship      0\n",
              "race              0\n",
              "sex               0\n",
              "capital.gain      0\n",
              "capital.loss      0\n",
              "hours.per.week    0\n",
              "native.country    0\n",
              "income            0\n",
              "dtype: int64"
            ]
          },
          "execution_count": 280,
          "metadata": {},
          "output_type": "execute_result"
        }
      ],
      "source": [
        "df.isnull().sum()"
      ]
    },
    {
      "cell_type": "code",
      "execution_count": 281,
      "metadata": {},
      "outputs": [
        {
          "name": "stdout",
          "output_type": "stream",
          "text": [
            "<class 'pandas.core.frame.DataFrame'>\n",
            "RangeIndex: 32561 entries, 0 to 32560\n",
            "Data columns (total 15 columns):\n",
            " #   Column          Non-Null Count  Dtype \n",
            "---  ------          --------------  ----- \n",
            " 0   age             32561 non-null  int64 \n",
            " 1   workclass       32561 non-null  object\n",
            " 2   fnlwgt          32561 non-null  int64 \n",
            " 3   education       32561 non-null  object\n",
            " 4   education.num   32561 non-null  int64 \n",
            " 5   marital.status  32561 non-null  object\n",
            " 6   occupation      32561 non-null  object\n",
            " 7   relationship    32561 non-null  object\n",
            " 8   race            32561 non-null  object\n",
            " 9   sex             32561 non-null  object\n",
            " 10  capital.gain    32561 non-null  int64 \n",
            " 11  capital.loss    32561 non-null  int64 \n",
            " 12  hours.per.week  32561 non-null  int64 \n",
            " 13  native.country  32561 non-null  object\n",
            " 14  income          32561 non-null  object\n",
            "dtypes: int64(6), object(9)\n",
            "memory usage: 3.7+ MB\n"
          ]
        }
      ],
      "source": [
        "df.info()"
      ]
    },
    {
      "cell_type": "code",
      "execution_count": 282,
      "metadata": {},
      "outputs": [],
      "source": [
        "# Separamos los datos de entrada (características) de la salida esperada (etiqueta)\n",
        "X = df.drop(['income'], axis=1)\n",
        "y = df['income']"
      ]
    },
    {
      "cell_type": "code",
      "execution_count": 283,
      "metadata": {},
      "outputs": [
        {
          "data": {
            "text/html": [
              "<div>\n",
              "<style scoped>\n",
              "    .dataframe tbody tr th:only-of-type {\n",
              "        vertical-align: middle;\n",
              "    }\n",
              "\n",
              "    .dataframe tbody tr th {\n",
              "        vertical-align: top;\n",
              "    }\n",
              "\n",
              "    .dataframe thead th {\n",
              "        text-align: right;\n",
              "    }\n",
              "</style>\n",
              "<table border=\"1\" class=\"dataframe\">\n",
              "  <thead>\n",
              "    <tr style=\"text-align: right;\">\n",
              "      <th></th>\n",
              "      <th>age</th>\n",
              "      <th>workclass</th>\n",
              "      <th>fnlwgt</th>\n",
              "      <th>education</th>\n",
              "      <th>education.num</th>\n",
              "      <th>marital.status</th>\n",
              "      <th>occupation</th>\n",
              "      <th>relationship</th>\n",
              "      <th>race</th>\n",
              "      <th>sex</th>\n",
              "      <th>capital.gain</th>\n",
              "      <th>capital.loss</th>\n",
              "      <th>hours.per.week</th>\n",
              "      <th>native.country</th>\n",
              "    </tr>\n",
              "  </thead>\n",
              "  <tbody>\n",
              "    <tr>\n",
              "      <th>0</th>\n",
              "      <td>90</td>\n",
              "      <td>Private</td>\n",
              "      <td>77053</td>\n",
              "      <td>HS-grad</td>\n",
              "      <td>9</td>\n",
              "      <td>Widowed</td>\n",
              "      <td>Prof-specialty</td>\n",
              "      <td>Not-in-family</td>\n",
              "      <td>White</td>\n",
              "      <td>Female</td>\n",
              "      <td>0</td>\n",
              "      <td>4356</td>\n",
              "      <td>40</td>\n",
              "      <td>United-States</td>\n",
              "    </tr>\n",
              "    <tr>\n",
              "      <th>1</th>\n",
              "      <td>82</td>\n",
              "      <td>Private</td>\n",
              "      <td>132870</td>\n",
              "      <td>HS-grad</td>\n",
              "      <td>9</td>\n",
              "      <td>Widowed</td>\n",
              "      <td>Exec-managerial</td>\n",
              "      <td>Not-in-family</td>\n",
              "      <td>White</td>\n",
              "      <td>Female</td>\n",
              "      <td>0</td>\n",
              "      <td>4356</td>\n",
              "      <td>18</td>\n",
              "      <td>United-States</td>\n",
              "    </tr>\n",
              "    <tr>\n",
              "      <th>2</th>\n",
              "      <td>66</td>\n",
              "      <td>Private</td>\n",
              "      <td>186061</td>\n",
              "      <td>Some-college</td>\n",
              "      <td>10</td>\n",
              "      <td>Widowed</td>\n",
              "      <td>Prof-specialty</td>\n",
              "      <td>Unmarried</td>\n",
              "      <td>Black</td>\n",
              "      <td>Female</td>\n",
              "      <td>0</td>\n",
              "      <td>4356</td>\n",
              "      <td>40</td>\n",
              "      <td>United-States</td>\n",
              "    </tr>\n",
              "    <tr>\n",
              "      <th>3</th>\n",
              "      <td>54</td>\n",
              "      <td>Private</td>\n",
              "      <td>140359</td>\n",
              "      <td>7th-8th</td>\n",
              "      <td>4</td>\n",
              "      <td>Divorced</td>\n",
              "      <td>Machine-op-inspct</td>\n",
              "      <td>Unmarried</td>\n",
              "      <td>White</td>\n",
              "      <td>Female</td>\n",
              "      <td>0</td>\n",
              "      <td>3900</td>\n",
              "      <td>40</td>\n",
              "      <td>United-States</td>\n",
              "    </tr>\n",
              "    <tr>\n",
              "      <th>4</th>\n",
              "      <td>41</td>\n",
              "      <td>Private</td>\n",
              "      <td>264663</td>\n",
              "      <td>Some-college</td>\n",
              "      <td>10</td>\n",
              "      <td>Separated</td>\n",
              "      <td>Prof-specialty</td>\n",
              "      <td>Own-child</td>\n",
              "      <td>White</td>\n",
              "      <td>Female</td>\n",
              "      <td>0</td>\n",
              "      <td>3900</td>\n",
              "      <td>40</td>\n",
              "      <td>United-States</td>\n",
              "    </tr>\n",
              "  </tbody>\n",
              "</table>\n",
              "</div>"
            ],
            "text/plain": [
              "   age workclass  fnlwgt     education  education.num marital.status  \\\n",
              "0   90   Private   77053       HS-grad              9        Widowed   \n",
              "1   82   Private  132870       HS-grad              9        Widowed   \n",
              "2   66   Private  186061  Some-college             10        Widowed   \n",
              "3   54   Private  140359       7th-8th              4       Divorced   \n",
              "4   41   Private  264663  Some-college             10      Separated   \n",
              "\n",
              "          occupation   relationship   race     sex  capital.gain  \\\n",
              "0     Prof-specialty  Not-in-family  White  Female             0   \n",
              "1    Exec-managerial  Not-in-family  White  Female             0   \n",
              "2     Prof-specialty      Unmarried  Black  Female             0   \n",
              "3  Machine-op-inspct      Unmarried  White  Female             0   \n",
              "4     Prof-specialty      Own-child  White  Female             0   \n",
              "\n",
              "   capital.loss  hours.per.week native.country  \n",
              "0          4356              40  United-States  \n",
              "1          4356              18  United-States  \n",
              "2          4356              40  United-States  \n",
              "3          3900              40  United-States  \n",
              "4          3900              40  United-States  "
            ]
          },
          "execution_count": 283,
          "metadata": {},
          "output_type": "execute_result"
        }
      ],
      "source": [
        "X.head()"
      ]
    },
    {
      "cell_type": "markdown",
      "metadata": {},
      "source": [
        "#Aplicamos Ingenieria de las características"
      ]
    },
    {
      "cell_type": "code",
      "execution_count": 284,
      "metadata": {},
      "outputs": [],
      "source": [
        "# Vamos a codificar las variables categóricas\n",
        "# Aplicaremos simplemente un LabelEncoder()\n",
        "from sklearn import preprocessing\n",
        "\n",
        "categorical = ['workclass', 'education', 'marital.status', 'occupation', 'relationship', 'race', 'sex', 'native.country']\n",
        "for feature in categorical:\n",
        "        le = preprocessing.LabelEncoder()\n",
        "        X[feature] = le.fit_transform(X[feature])"
      ]
    },
    {
      "cell_type": "code",
      "execution_count": 285,
      "metadata": {},
      "outputs": [],
      "source": [
        "# Ahora escalaremos los datos\n",
        "from sklearn.preprocessing import StandardScaler\n",
        "\n",
        "scaler = StandardScaler()\n",
        "\n",
        "X = pd.DataFrame(scaler.fit_transform(X), columns = X.columns)"
      ]
    },
    {
      "cell_type": "code",
      "execution_count": 286,
      "metadata": {},
      "outputs": [
        {
          "data": {
            "text/html": [
              "<div>\n",
              "<style scoped>\n",
              "    .dataframe tbody tr th:only-of-type {\n",
              "        vertical-align: middle;\n",
              "    }\n",
              "\n",
              "    .dataframe tbody tr th {\n",
              "        vertical-align: top;\n",
              "    }\n",
              "\n",
              "    .dataframe thead th {\n",
              "        text-align: right;\n",
              "    }\n",
              "</style>\n",
              "<table border=\"1\" class=\"dataframe\">\n",
              "  <thead>\n",
              "    <tr style=\"text-align: right;\">\n",
              "      <th></th>\n",
              "      <th>age</th>\n",
              "      <th>workclass</th>\n",
              "      <th>fnlwgt</th>\n",
              "      <th>education</th>\n",
              "      <th>education.num</th>\n",
              "      <th>marital.status</th>\n",
              "      <th>occupation</th>\n",
              "      <th>relationship</th>\n",
              "      <th>race</th>\n",
              "      <th>sex</th>\n",
              "      <th>capital.gain</th>\n",
              "      <th>capital.loss</th>\n",
              "      <th>hours.per.week</th>\n",
              "      <th>native.country</th>\n",
              "    </tr>\n",
              "  </thead>\n",
              "  <tbody>\n",
              "    <tr>\n",
              "      <th>0</th>\n",
              "      <td>3.769612</td>\n",
              "      <td>-0.085296</td>\n",
              "      <td>-1.067997</td>\n",
              "      <td>0.181332</td>\n",
              "      <td>-0.420060</td>\n",
              "      <td>2.249480</td>\n",
              "      <td>0.720237</td>\n",
              "      <td>-0.277805</td>\n",
              "      <td>0.393668</td>\n",
              "      <td>-1.422331</td>\n",
              "      <td>-0.14592</td>\n",
              "      <td>10.593507</td>\n",
              "      <td>-0.035429</td>\n",
              "      <td>0.26137</td>\n",
              "    </tr>\n",
              "    <tr>\n",
              "      <th>1</th>\n",
              "      <td>3.183112</td>\n",
              "      <td>-0.085296</td>\n",
              "      <td>-0.539169</td>\n",
              "      <td>0.181332</td>\n",
              "      <td>-0.420060</td>\n",
              "      <td>2.249480</td>\n",
              "      <td>-0.790092</td>\n",
              "      <td>-0.277805</td>\n",
              "      <td>0.393668</td>\n",
              "      <td>-1.422331</td>\n",
              "      <td>-0.14592</td>\n",
              "      <td>10.593507</td>\n",
              "      <td>-1.817204</td>\n",
              "      <td>0.26137</td>\n",
              "    </tr>\n",
              "    <tr>\n",
              "      <th>2</th>\n",
              "      <td>2.010110</td>\n",
              "      <td>-0.085296</td>\n",
              "      <td>-0.035220</td>\n",
              "      <td>1.214869</td>\n",
              "      <td>-0.031360</td>\n",
              "      <td>2.249480</td>\n",
              "      <td>0.720237</td>\n",
              "      <td>1.589322</td>\n",
              "      <td>-1.962621</td>\n",
              "      <td>-1.422331</td>\n",
              "      <td>-0.14592</td>\n",
              "      <td>10.593507</td>\n",
              "      <td>-0.035429</td>\n",
              "      <td>0.26137</td>\n",
              "    </tr>\n",
              "    <tr>\n",
              "      <th>3</th>\n",
              "      <td>1.130359</td>\n",
              "      <td>-0.085296</td>\n",
              "      <td>-0.468215</td>\n",
              "      <td>-1.368974</td>\n",
              "      <td>-2.363558</td>\n",
              "      <td>-1.734058</td>\n",
              "      <td>-0.034928</td>\n",
              "      <td>1.589322</td>\n",
              "      <td>0.393668</td>\n",
              "      <td>-1.422331</td>\n",
              "      <td>-0.14592</td>\n",
              "      <td>9.461864</td>\n",
              "      <td>-0.035429</td>\n",
              "      <td>0.26137</td>\n",
              "    </tr>\n",
              "    <tr>\n",
              "      <th>4</th>\n",
              "      <td>0.177296</td>\n",
              "      <td>-0.085296</td>\n",
              "      <td>0.709482</td>\n",
              "      <td>1.214869</td>\n",
              "      <td>-0.031360</td>\n",
              "      <td>1.585557</td>\n",
              "      <td>0.720237</td>\n",
              "      <td>0.966947</td>\n",
              "      <td>0.393668</td>\n",
              "      <td>-1.422331</td>\n",
              "      <td>-0.14592</td>\n",
              "      <td>9.461864</td>\n",
              "      <td>-0.035429</td>\n",
              "      <td>0.26137</td>\n",
              "    </tr>\n",
              "  </tbody>\n",
              "</table>\n",
              "</div>"
            ],
            "text/plain": [
              "        age  workclass    fnlwgt  education  education.num  marital.status  \\\n",
              "0  3.769612  -0.085296 -1.067997   0.181332      -0.420060        2.249480   \n",
              "1  3.183112  -0.085296 -0.539169   0.181332      -0.420060        2.249480   \n",
              "2  2.010110  -0.085296 -0.035220   1.214869      -0.031360        2.249480   \n",
              "3  1.130359  -0.085296 -0.468215  -1.368974      -2.363558       -1.734058   \n",
              "4  0.177296  -0.085296  0.709482   1.214869      -0.031360        1.585557   \n",
              "\n",
              "   occupation  relationship      race       sex  capital.gain  capital.loss  \\\n",
              "0    0.720237     -0.277805  0.393668 -1.422331      -0.14592     10.593507   \n",
              "1   -0.790092     -0.277805  0.393668 -1.422331      -0.14592     10.593507   \n",
              "2    0.720237      1.589322 -1.962621 -1.422331      -0.14592     10.593507   \n",
              "3   -0.034928      1.589322  0.393668 -1.422331      -0.14592      9.461864   \n",
              "4    0.720237      0.966947  0.393668 -1.422331      -0.14592      9.461864   \n",
              "\n",
              "   hours.per.week  native.country  \n",
              "0       -0.035429         0.26137  \n",
              "1       -1.817204         0.26137  \n",
              "2       -0.035429         0.26137  \n",
              "3       -0.035429         0.26137  \n",
              "4       -0.035429         0.26137  "
            ]
          },
          "execution_count": 286,
          "metadata": {},
          "output_type": "execute_result"
        }
      ],
      "source": [
        "X.head()"
      ]
    },
    {
      "cell_type": "code",
      "execution_count": 287,
      "metadata": {},
      "outputs": [
        {
          "data": {
            "text/plain": [
              "0    <=50K\n",
              "1    <=50K\n",
              "2    <=50K\n",
              "3    <=50K\n",
              "4    <=50K\n",
              "Name: income, dtype: object"
            ]
          },
          "execution_count": 287,
          "metadata": {},
          "output_type": "execute_result"
        }
      ],
      "source": [
        "y.head()"
      ]
    },
    {
      "cell_type": "markdown",
      "metadata": {},
      "source": [
        "#Estandarización de las características"
      ]
    },
    {
      "cell_type": "code",
      "execution_count": 288,
      "metadata": {},
      "outputs": [
        {
          "name": "stdout",
          "output_type": "stream",
          "text": [
            "Características:  14\n"
          ]
        },
        {
          "data": {
            "text/plain": [
              "array([[ 3.76961234, -0.08529633, -1.06799736,  0.18133163, -0.42005962,\n",
              "         2.24948009,  0.72023651, -0.27780504,  0.39366753, -1.42233076,\n",
              "        -0.14592048, 10.59350656, -0.03542945,  0.26136999]])"
            ]
          },
          "execution_count": 288,
          "metadata": {},
          "output_type": "execute_result"
        }
      ],
      "source": [
        "from sklearn.preprocessing import StandardScaler\n",
        "\n",
        "columns = len(X.columns)\n",
        "print(\"Características: \", columns) \n",
        "\n",
        "sc = StandardScaler()\n",
        "scaled_X = sc.fit_transform(X)\n",
        "scaled_X[:1]   "
      ]
    },
    {
      "cell_type": "markdown",
      "metadata": {},
      "source": [
        "#Hacemos la transformación PCA"
      ]
    },
    {
      "cell_type": "code",
      "execution_count": 289,
      "metadata": {},
      "outputs": [],
      "source": [
        "from sklearn.decomposition import PCA\n",
        "pca = PCA()\n",
        "X_pca = pca.fit_transform(scaled_X)"
      ]
    },
    {
      "cell_type": "code",
      "execution_count": 290,
      "metadata": {},
      "outputs": [
        {
          "data": {
            "image/png": "[encoded data removed]",
            "text/plain": [
              "<Figure size 640x480 with 1 Axes>"
            ]
          },
          "metadata": {},
          "output_type": "display_data"
        }
      ],
      "source": [
        "#Decidiremos con cuántas características nos vamos a quedar\n",
        "plt.plot(np.cumsum(pca.explained_variance_ratio_))\n",
        "plt.xlabel('Número de Componentes Principales')\n",
        "plt.ylabel('Varianza Explicada Acumulada');"
      ]
    },
    {
      "cell_type": "code",
      "execution_count": 291,
      "metadata": {},
      "outputs": [
        {
          "name": "stdout",
          "output_type": "stream",
          "text": [
            "1 Componentes principales\n",
            "0.14783222072790617\n",
            "Accuracy: 0.7925\n",
            "******************************\n",
            "2 Componentes principales\n",
            "0.24943817550517067\n",
            "Accuracy: 0.8001\n",
            "******************************\n",
            "3 Componentes principales\n",
            "0.3300081530923814\n",
            "Accuracy: 0.8005\n",
            "******************************\n",
            "4 Componentes principales\n",
            "0.4087121531356733\n",
            "Accuracy: 0.8048\n",
            "******************************\n",
            "5 Componentes principales\n",
            "0.482987673303086\n",
            "Accuracy: 0.8056\n",
            "******************************\n",
            "6 Componentes principales\n",
            "0.5562788563488221\n",
            "Accuracy: 0.8044\n",
            "******************************\n",
            "7 Componentes principales\n",
            "0.6265497436672989\n",
            "Accuracy: 0.8058\n",
            "******************************\n",
            "8 Componentes principales\n",
            "0.6942758339265453\n",
            "Accuracy: 0.8067\n",
            "******************************\n",
            "9 Componentes principales\n",
            "0.7591503469208832\n",
            "Accuracy: 0.8251\n",
            "******************************\n",
            "10 Componentes principales\n",
            "0.8203482619818151\n",
            "Accuracy: 0.8243\n",
            "******************************\n",
            "11 Componentes principales\n",
            "0.8811907598573696\n",
            "Accuracy: 0.8247\n",
            "******************************\n",
            "12 Componentes principales\n",
            "0.9298438640864304\n",
            "Accuracy: 0.8257\n",
            "******************************\n",
            "13 Componentes principales\n",
            "0.972610521196605\n",
            "Accuracy: 0.8279\n",
            "******************************\n",
            "14 Componentes principales\n",
            "0.9999999999999999\n",
            "Accuracy: 0.8268\n",
            "******************************\n"
          ]
        }
      ],
      "source": [
        "#Vamos a entrenar el modelo con diferentes valores de PCA y analizaremos los resultados.\n",
        "values = range(1, columns + 1)\n",
        "y = df[\"income\"]\n",
        "for i in values:\n",
        "  print(i,\"Componentes principales\")\n",
        "  pca = PCA(n_components= i)\n",
        "  X_pca = pca.fit_transform(scaled_X)\n",
        "  X = X_pca\n",
        "  X_train, X_test, y_train, y_test = train_test_split(X, y, test_size = 0.25\n",
        "                                                      , random_state = 31)\n",
        "  logreg = LogisticRegression(solver='liblinear', penalty = 'l1')\n",
        "  logreg.fit(X_train,y_train)\n",
        "  y_pred = logreg.predict(X_test)\n",
        "  logreg_accy = round(accuracy_score(y_pred,y_test), 4)\n",
        "\n",
        "  print(sum(pca.explained_variance_ratio_))\n",
        "  print(\"Accuracy:\", logreg_accy)\n",
        "  print('*'*30)"
      ]
    },
    {
      "cell_type": "code",
      "execution_count": 292,
      "metadata": {},
      "outputs": [
        {
          "name": "stdout",
          "output_type": "stream",
          "text": [
            "Accuracy aplicando PCA: 0.8250829136469722\n"
          ]
        }
      ],
      "source": [
        "#Seleccionamos la cantidad de características para reducir la dimensionalidad\n",
        "pca = PCA(n_components=9)\n",
        "X_pca = pca.fit_transform(scaled_X)\n",
        "X = X_pca\n",
        "y = df[\"income\"]\n",
        "X_train, X_test, y_train, y_test = train_test_split(X, y, test_size=0.25, random_state=31)\n",
        "logreg = LogisticRegression(solver='liblinear', penalty='l1')\n",
        "logreg.fit(X_train,y_train)\n",
        "y_pred = logreg.predict(X_test)\n",
        "logreg_accy = accuracy_score(y_pred,y_test)\n",
        "print(\"Accuracy aplicando PCA:\", logreg_accy)"
      ]
    },
    {
      "cell_type": "markdown",
      "metadata": {},
      "source": [
        "#Vemos que con 9 caracteristicas podemos alcanzar un accuracy mayor al modelo original. Además dicha cantidad de características explican más del 75% de los datos"
      ]
    },
    {
      "cell_type": "markdown",
      "metadata": {},
      "source": [
        "## 3. "
      ]
    },
    {
      "cell_type": "markdown",
      "metadata": {},
      "source": [
        "#Comparación de los 3 modelos"
      ]
    },
    {
      "cell_type": "markdown",
      "metadata": {},
      "source": [
        "A continuación vemos una tabla comparativa de accuracy:\n",
        "\n",
        "|Modelo original| EDA + Regresión Logistica |Análisis PCA\n",
        "|:-| :- | :-\n",
        "|0.8218| 0.8246 | 0.8251"
      ]
    },
    {
      "cell_type": "markdown",
      "metadata": {},
      "source": [
        "Al observar los resultados podemos realizar las siguientes conclusiones: \n",
        "\n",
        "- Luego del análisis exploratorio de datos EDA, se obtuvo un accuracy mayor que el modelo original (que utilizó todas las caracteristicas), utilizando sólo 5 de las 14 características, al aplicar el modelo de Regresión Logística.\n",
        "- Finalmente, al realizar un PCA al conjunto de datos, se obtuvo el máximo accuracy, al trabajar con 9 de las 14 características. \n",
        "- De todas formas, vemos que los 3 resultados de exactitud obtenidos son muy próximos. "
      ]
    }
  ],
  "metadata": {
    "colab": {
      "provenance": []
    },
    "kernelspec": {
      "display_name": "Python 3",
      "name": "python3"
    },
    "language_info": {
      "codemirror_mode": {
        "name": "ipython",
        "version": 3
      },
      "file_extension": ".py",
      "mimetype": "text/x-python",
      "name": "python",
      "nbconvert_exporter": "python",
      "pygments_lexer": "ipython3",
      "version": "3.12.0"
    }
  },
  "nbformat": 4,
  "nbformat_minor": 0
}
